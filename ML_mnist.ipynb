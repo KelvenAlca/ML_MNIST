{
  "nbformat": 4,
  "nbformat_minor": 0,
  "metadata": {
    "colab": {
      "provenance": []
    },
    "kernelspec": {
      "name": "python3",
      "display_name": "Python 3"
    },
    "language_info": {
      "name": "python"
    }
  },
  "cells": [
    {
      "cell_type": "code",
      "execution_count": 1,
      "metadata": {
        "colab": {
          "base_uri": "https://localhost:8080/"
        },
        "id": "kQK7Ca_ybSyM",
        "outputId": "8c20320e-638f-416c-f651-ada6d40fbaa0"
      },
      "outputs": [
        {
          "output_type": "stream",
          "name": "stderr",
          "text": [
            "/usr/local/lib/python3.10/dist-packages/sklearn/datasets/_openml.py:968: FutureWarning: The default value of `parser` will change from `'liac-arff'` to `'auto'` in 1.4. You can set `parser='auto'` to silence this warning. Therefore, an `ImportError` will be raised from 1.4 if the dataset is dense and pandas is not installed. Note that the pandas parser may return different data types. See the Notes Section in fetch_openml's API doc for details.\n",
            "  warn(\n"
          ]
        },
        {
          "output_type": "stream",
          "name": "stdout",
          "text": [
            "<class 'pandas.core.frame.DataFrame'>\n",
            "RangeIndex: 70000 entries, 0 to 69999\n",
            "Columns: 785 entries, pixel1 to target\n",
            "dtypes: float64(784), int64(1)\n",
            "memory usage: 419.2 MB\n",
            "None\n"
          ]
        }
      ],
      "source": [
        "from sklearn.datasets import fetch_openml\n",
        "import pandas as pd\n",
        "\n",
        "# Carregar o conjunto de dados MNIST\n",
        "mnist = fetch_openml('mnist_784')\n",
        "\n",
        "# Criar DataFrame pandas\n",
        "mnist_df = pd.DataFrame(data=mnist.data, columns=mnist.feature_names)\n",
        "mnist_df['target'] = mnist.target.astype(int)\n",
        "\n",
        "# Verificar informações do DataFrame\n",
        "print(mnist_df.info())\n"
      ]
    },
    {
      "cell_type": "code",
      "source": [
        "from sklearn.model_selection import train_test_split\n",
        "\n",
        "# Dividir os dados em features (pixels) e rótulos (target)\n",
        "X = mnist_df.drop(columns=['target'])\n",
        "y = mnist_df['target']\n",
        "\n",
        "# Dividir os dados em conjuntos de treinamento e teste (80% treinamento, 20% teste)\n",
        "X_train, X_test, y_train, y_test = train_test_split(X, y, test_size=0.2, random_state=42)\n",
        "\n",
        "# Verificar o tamanho dos conjuntos\n",
        "print(f\"Tamanho do conjunto de treinamento: {len(X_train)} amostras\")\n",
        "print(f\"Tamanho do conjunto de teste: {len(X_test)} amostras\")"
      ],
      "metadata": {
        "colab": {
          "base_uri": "https://localhost:8080/"
        },
        "id": "oammGlemb-kB",
        "outputId": "0b8036fd-b20a-4119-af30-664d347ed87f"
      },
      "execution_count": 5,
      "outputs": [
        {
          "output_type": "stream",
          "name": "stdout",
          "text": [
            "Tamanho do conjunto de treinamento: 56000 amostras\n",
            "Tamanho do conjunto de teste: 14000 amostras\n"
          ]
        }
      ]
    },
    {
      "cell_type": "code",
      "source": [
        "from sklearn.preprocessing import MinMaxScaler\n",
        "\n",
        "# Normalização dos dados (valores dos pixels)\n",
        "scaler = MinMaxScaler()\n",
        "X_train_normalized = scaler.fit_transform(X_train)\n",
        "X_test_normalized = scaler.transform(X_test)\n",
        "\n",
        "# Verificar o formato dos dados normalizados\n",
        "print(f\"Formato dos dados de treinamento normalizados: {X_train_normalized.shape}\")\n",
        "print(f\"Formato dos dados de teste normalizados: {X_test_normalized.shape}\")"
      ],
      "metadata": {
        "colab": {
          "base_uri": "https://localhost:8080/"
        },
        "id": "pdO9adBWcUKY",
        "outputId": "048f812a-5968-4de1-f07d-e73e2c41ac21"
      },
      "execution_count": 6,
      "outputs": [
        {
          "output_type": "stream",
          "name": "stdout",
          "text": [
            "Formato dos dados de treinamento normalizados: (56000, 784)\n",
            "Formato dos dados de teste normalizados: (14000, 784)\n"
          ]
        }
      ]
    },
    {
      "cell_type": "code",
      "source": [
        "import tensorflow as tf\n",
        "from tensorflow.keras import layers, models\n",
        "\n",
        "# Definir o modelo CNN\n",
        "model = models.Sequential([\n",
        "    layers.Reshape((28, 28, 1), input_shape=(784,)),\n",
        "    layers.Conv2D(32, (3, 3), activation='relu'),\n",
        "    layers.MaxPooling2D((2, 2)),\n",
        "    layers.Conv2D(64, (3, 3), activation='relu'),\n",
        "    layers.MaxPooling2D((2, 2)),\n",
        "    layers.Flatten(),\n",
        "    layers.Dense(128, activation='relu'),\n",
        "    layers.Dense(10, activation='softmax')\n",
        "])\n",
        "\n",
        "# Compilar o modelo\n",
        "model.compile(optimizer='adam',\n",
        "              loss='sparse_categorical_crossentropy',\n",
        "              metrics=['accuracy'])\n",
        "\n",
        "# Exibir a arquitetura do modelo\n",
        "model.summary()\n"
      ],
      "metadata": {
        "colab": {
          "base_uri": "https://localhost:8080/"
        },
        "id": "AXcnet79cfwp",
        "outputId": "bc37754c-bf5c-44dd-a81d-d9dcee42000f"
      },
      "execution_count": 7,
      "outputs": [
        {
          "output_type": "stream",
          "name": "stdout",
          "text": [
            "Model: \"sequential\"\n",
            "_________________________________________________________________\n",
            " Layer (type)                Output Shape              Param #   \n",
            "=================================================================\n",
            " reshape (Reshape)           (None, 28, 28, 1)         0         \n",
            "                                                                 \n",
            " conv2d (Conv2D)             (None, 26, 26, 32)        320       \n",
            "                                                                 \n",
            " max_pooling2d (MaxPooling2  (None, 13, 13, 32)        0         \n",
            " D)                                                              \n",
            "                                                                 \n",
            " conv2d_1 (Conv2D)           (None, 11, 11, 64)        18496     \n",
            "                                                                 \n",
            " max_pooling2d_1 (MaxPoolin  (None, 5, 5, 64)          0         \n",
            " g2D)                                                            \n",
            "                                                                 \n",
            " flatten (Flatten)           (None, 1600)              0         \n",
            "                                                                 \n",
            " dense (Dense)               (None, 128)               204928    \n",
            "                                                                 \n",
            " dense_1 (Dense)             (None, 10)                1290      \n",
            "                                                                 \n",
            "=================================================================\n",
            "Total params: 225034 (879.04 KB)\n",
            "Trainable params: 225034 (879.04 KB)\n",
            "Non-trainable params: 0 (0.00 Byte)\n",
            "_________________________________________________________________\n"
          ]
        }
      ]
    },
    {
      "cell_type": "code",
      "source": [
        "# Definir o número de épocas e o tamanho do treinamento\n",
        "epochs = 10\n",
        "batch_size = 32\n",
        "\n",
        "# Treinar o modelo\n",
        "history = model.fit(X_train_normalized, y_train, epochs=epochs, batch_size=batch_size, validation_split=0.2)\n",
        "\n",
        "# Avaliar o modelo no conjunto de teste\n",
        "test_loss, test_accuracy = model.evaluate(X_test_normalized, y_test)\n",
        "\n",
        "# Exibir a acurácia do modelo no conjunto de teste\n",
        "print(f\"Acurácia do modelo no conjunto de teste: {test_accuracy * 100:.2f}%\")"
      ],
      "metadata": {
        "colab": {
          "base_uri": "https://localhost:8080/"
        },
        "id": "nB_Tn409c3rs",
        "outputId": "526b0764-a71a-4652-ff88-107513337684"
      },
      "execution_count": 8,
      "outputs": [
        {
          "output_type": "stream",
          "name": "stdout",
          "text": [
            "Epoch 1/10\n",
            "1400/1400 [==============================] - 53s 37ms/step - loss: 0.1573 - accuracy: 0.9513 - val_loss: 0.0739 - val_accuracy: 0.9772\n",
            "Epoch 2/10\n",
            "1400/1400 [==============================] - 43s 31ms/step - loss: 0.0475 - accuracy: 0.9858 - val_loss: 0.0453 - val_accuracy: 0.9860\n",
            "Epoch 3/10\n",
            "1400/1400 [==============================] - 47s 34ms/step - loss: 0.0339 - accuracy: 0.9896 - val_loss: 0.0369 - val_accuracy: 0.9881\n",
            "Epoch 4/10\n",
            "1400/1400 [==============================] - 44s 32ms/step - loss: 0.0235 - accuracy: 0.9928 - val_loss: 0.0442 - val_accuracy: 0.9868\n",
            "Epoch 5/10\n",
            "1400/1400 [==============================] - 46s 33ms/step - loss: 0.0185 - accuracy: 0.9941 - val_loss: 0.0405 - val_accuracy: 0.9885\n",
            "Epoch 6/10\n",
            "1400/1400 [==============================] - 44s 31ms/step - loss: 0.0140 - accuracy: 0.9952 - val_loss: 0.0368 - val_accuracy: 0.9895\n",
            "Epoch 7/10\n",
            "1400/1400 [==============================] - 45s 32ms/step - loss: 0.0106 - accuracy: 0.9966 - val_loss: 0.0391 - val_accuracy: 0.9896\n",
            "Epoch 8/10\n",
            "1400/1400 [==============================] - 42s 30ms/step - loss: 0.0098 - accuracy: 0.9968 - val_loss: 0.0564 - val_accuracy: 0.9876\n",
            "Epoch 9/10\n",
            "1400/1400 [==============================] - 42s 30ms/step - loss: 0.0072 - accuracy: 0.9975 - val_loss: 0.0465 - val_accuracy: 0.9900\n",
            "Epoch 10/10\n",
            "1400/1400 [==============================] - 43s 31ms/step - loss: 0.0073 - accuracy: 0.9972 - val_loss: 0.0456 - val_accuracy: 0.9892\n",
            "438/438 [==============================] - 4s 8ms/step - loss: 0.0448 - accuracy: 0.9903\n",
            "Acurácia do modelo no conjunto de teste: 99.03%\n"
          ]
        }
      ]
    },
    {
      "cell_type": "code",
      "source": [
        "# Avaliar o modelo no conjunto de teste\n",
        "test_loss, test_accuracy = model.evaluate(X_test_normalized, y_test)\n",
        "\n",
        "# Exibir a perda e a acurácia do modelo no conjunto de teste\n",
        "print(f\"Perda do modelo no conjunto de teste: {test_loss:.4f}\")\n",
        "print(f\"Acurácia do modelo no conjunto de teste: {test_accuracy * 100:.2f}%\")"
      ],
      "metadata": {
        "colab": {
          "base_uri": "https://localhost:8080/"
        },
        "id": "_XGVpBoMnPCa",
        "outputId": "c1cf6b52-13e9-4ae0-a6ae-86651e0d136e"
      },
      "execution_count": 9,
      "outputs": [
        {
          "output_type": "stream",
          "name": "stdout",
          "text": [
            "438/438 [==============================] - 4s 10ms/step - loss: 0.0448 - accuracy: 0.9903\n",
            "Perda do modelo no conjunto de teste: 0.0448\n",
            "Acurácia do modelo no conjunto de teste: 99.03%\n"
          ]
        }
      ]
    },
    {
      "cell_type": "code",
      "source": [
        "# Obter os pesos do modelo treinado\n",
        "weights = model.get_weights()\n",
        "\n",
        "# Converter cada array de pesos em uma lista de valores\n",
        "weights_list = [w.flatten().tolist() for w in weights]\n",
        "\n",
        "# Criar um DataFrame com as listas de valores dos pesos\n",
        "df_weights = pd.DataFrame(weights_list)\n",
        "\n",
        "# Salvar o DataFrame em um arquivo CSV\n",
        "df_weights.to_csv('modelo_pesos.csv', index=False)\n",
        "\n",
        "print(\"Modelo treinado salvo em 'modelo_pesos.csv'.\")"
      ],
      "metadata": {
        "colab": {
          "base_uri": "https://localhost:8080/"
        },
        "id": "sdWYEJSSoa4-",
        "outputId": "7b801f19-c650-4685-baa4-290e2d0b858f"
      },
      "execution_count": 17,
      "outputs": [
        {
          "output_type": "stream",
          "name": "stdout",
          "text": [
            "Modelo treinado salvo em 'modelo_pesos.csv'.\n"
          ]
        }
      ]
    },
    {
      "cell_type": "code",
      "source": [
        "import matplotlib.pyplot as plt\n",
        "import numpy as np\n",
        "\n",
        "# Função para mostrar uma imagem do conjunto MNIST\n",
        "def show_image(index):\n",
        "    # Converter o índice para um número de 0 a 9\n",
        "    digit = np.argmax(model.predict(X_test_normalized[index:index+1]), axis=-1)[0]\n",
        "\n",
        "    # Exibir a imagem\n",
        "    plt.imshow(X_test_normalized[index].reshape(28, 28), cmap='gray')\n",
        "    plt.title(f'Dígito previsto: {digit}')\n",
        "    plt.axis('off')\n",
        "    plt.show()\n",
        "\n",
        "# Solicitar ao usuário para digitar um número de 0 a 9\n",
        "char_input = input(\"Digite um número de 0 a 9 para visualizar a imagem correspondente: \")\n",
        "\n",
        "# Validar o input do usuário\n",
        "try:\n",
        "    char_input = int(char_input)\n",
        "    if char_input < 0 or char_input > 9:\n",
        "        raise ValueError\n",
        "except ValueError:\n",
        "    print(\"Entrada inválida. Por favor, digite um número de 0 a 9.\")\n",
        "else:\n",
        "    # Encontrar o índice da primeira imagem correspondente ao dígito digitado\n",
        "    index = np.argmax(y_test == char_input)\n",
        "\n",
        "    if index:\n",
        "        # Mostrar a imagem correspondente ao dígito\n",
        "        show_image(index)\n",
        "    else:\n",
        "        print(f\"Não há imagens do dígito {char_input} no conjunto de teste.\")\n"
      ],
      "metadata": {
        "colab": {
          "base_uri": "https://localhost:8080/",
          "height": 464
        },
        "id": "5iuyUqwxnfud",
        "outputId": "69a8866f-2477-4f1b-d961-38cb00d9c37b"
      },
      "execution_count": 14,
      "outputs": [
        {
          "output_type": "stream",
          "name": "stdout",
          "text": [
            "Digite um número de 0 a 9 para visualizar a imagem correspondente: 3\n",
            "1/1 [==============================] - 0s 23ms/step\n"
          ]
        },
        {
          "output_type": "display_data",
          "data": {
            "text/plain": [
              "<Figure size 640x480 with 1 Axes>"
            ],
            "image/png": "[encoded data removed]"
          },
          "metadata": {}
        }
      ]
    }
  ]
}